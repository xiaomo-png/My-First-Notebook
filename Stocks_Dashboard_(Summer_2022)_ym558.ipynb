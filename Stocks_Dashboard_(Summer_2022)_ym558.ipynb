{
  "cells": [
    {
      "cell_type": "markdown",
      "metadata": {
        "id": "view-in-github",
        "colab_type": "text"
      },
      "source": [
        "<a href=\"https://colab.research.google.com/github/xiaomo-png/My-First-Notebook/blob/main/Stocks_Dashboard_(Summer_2022)_ym558.ipynb\" target=\"_parent\"><img src=\"https://colab.research.google.com/assets/colab-badge.svg\" alt=\"Open In Colab\"/></a>"
      ]
    },
    {
      "cell_type": "markdown",
      "metadata": {
        "id": "b2pqHGlnmTkk"
      },
      "source": [
        "# Prompt"
      ]
    },
    {
      "cell_type": "markdown",
      "metadata": {
        "id": "UGHcEnEsNyH3"
      },
      "source": [
        ""
      ]
    },
    {
      "cell_type": "markdown",
      "metadata": {
        "id": "6eV-RyqEmVko"
      },
      "source": [
        "\n",
        "Create an automated data dashboard which reads data about stock prices, and produces a corresponding chart of the prices over time. The dashboard should be produced by a reusable function, which, if written correctly, can be used in the provided \"Stocks Dashboard\" section at the very bottom of this notebook. The function will produce a dataviz of the stock prices over time, as well as a summary report of key metrics. \n",
        "\n",
        "To satisfy the basic requirements, the program can read data from one of the provided CSV files.  Each CSV file contains some (outdated) stock price data about the company name mentioned in the CSV file name ('AAPL', 'DIS', 'GOOGL', 'MSFT', 'NFLX', 'SBUX', or 'TSLA'). You can assume all these provided CSV files will conform to the same file naming conventions and will have the same columns and row structure.\n",
        "\n",
        "For further exploration, the program can alternatively fetch real-time stock market data from the Internet. In this case, the dashboard will be able to work with a broader range of stock symbols.\n",
        "\n"
      ]
    },
    {
      "cell_type": "markdown",
      "metadata": {
        "id": "3GXGZ01eXGD0"
      },
      "source": [
        "# Evaluation\n",
        "\n",
        "Submissions will be evaluated according to their ability to meet all requirements (see sections below), as summarized by the following rubric:\n",
        "\n",
        "  + The **Function and Parameter Requirements** are worth 10%.\n",
        "\n",
        "  + The **Symbol Validation Requirements** are worth 10%.\n",
        "\n",
        "  + **Part I (Data Extraction)** is worth 20%. For full points, you're encouraged to fetch real-time data from the Internet instead of using the provided CSV files. If there is an attempt to fetch data from the API, the API Key will need to be handled securely, otherwise compromised keys will lead to security deductions.\n",
        "\n",
        "  + **Part II (Data Processing)** is worth 30%. For full points, make sure you answer all questions correctly. Each question is worth around the same weight. The last two \"further exploration\" questions are optional, and deliberately harder / more involved, and may earn bonus points.\n",
        "\n",
        "  + **Part III (Data Visualization)** is worth 30%. For full points, make sure you produce a polished chart, with title and axis labels and prices formatted as USD. The further exploration challenges may earn bonus points.\n",
        "\n"
      ]
    },
    {
      "cell_type": "markdown",
      "metadata": {
        "id": "9l-2yKihBm11"
      },
      "source": [
        "# Requirements\n",
        "\n"
      ]
    },
    {
      "cell_type": "markdown",
      "metadata": {
        "id": "Y1487VgLsEYG"
      },
      "source": [
        "## Function and Parameter Requirements"
      ]
    },
    {
      "cell_type": "code",
      "execution_count": null,
      "metadata": {
        "id": "CSTjQHlCbu3x"
      },
      "outputs": [],
      "source": [
        "generate_stocks_report()"
      ]
    },
    {
      "cell_type": "markdown",
      "metadata": {
        "id": "Hpqun_sCrCft"
      },
      "source": [
        "Define a function called `generate_stocks_report()`.\n",
        "\n",
        "The function should accept a stock symbol as a parameter input, called `symbol`, which is expected to be a string datatype. Example valid invocation: `generate_stocks_report(\"MSFT\")`.\n",
        "\n",
        "If the symbol parameter is not supplied by the user during function invokation, the function should use `\"NFLX\"` as the default `symbol`. Example valid invocation: `generate_stocks_report()`.\n",
        "\n"
      ]
    },
    {
      "cell_type": "markdown",
      "metadata": {
        "id": "iFwmRIdx1Nuz"
      },
      "source": [
        "## Symbol Validation Requirements"
      ]
    },
    {
      "cell_type": "markdown",
      "metadata": {
        "id": "uHM7nMVn1MRY"
      },
      "source": [
        "If an invalid stock symbol is passed in, the report generation function should gracefully handle any errors and display only a friendly error message like \"OOPS, couldn't find that stock. Please check your symbol and try again.\"\n",
        "\n",
        "If your solution uses the provided CSV files, the only valid inputs are the symbols corresponding to the provided files. If the user tries to input a symbol that doesn't have a corresponding CSV file, that symbol is invalid.\n",
        "\n",
        "\n",
        "If your solution uses the AlphaVantage API, the only valid inputs are ones that lead to successful responses. If the user tries to input a symbol that that doesn't lead to a successful corresponding API response, that symbol is invalid.\n",
        "\n",
        "> HINT: in either case, try wrapping your data extraction method around a `try... except` block, or using conditional logic to detect whether the extraction method has produced the data we need to move forward.\n",
        "\n",
        "In either case, the program should not try to process data that doesn't exist, and the program should avoid crashed / red cells."
      ]
    },
    {
      "cell_type": "markdown",
      "metadata": {
        "id": "gAn-noRWuwvN"
      },
      "source": [
        "## Part I (Data Extraction Requirements)"
      ]
    },
    {
      "cell_type": "markdown",
      "metadata": {
        "id": "WhsOwO5Fuyxj"
      },
      "source": [
        "\n",
        "**Basic Requirements**\n",
        "\n",
        "Run the **Setup Cell #1**, below, to download the provided CSV files into the colab filesystem. Optionally download them and inspect them in spreadsheet software to get familiar with the structure. Notice these files represent the price of a given stock on an example day in the past (i.e. outdated data).\n",
        "\n",
        "> NOTE: you can assume the provided CSV files adhere to the same naming conventions, so for the symbol \"NFLX\", the corresponding CSV file would be named \"daily_adjusted_nflx.csv\".\n",
        "\n",
        "**Further Exploration**\n",
        "\n",
        "Later, if you'd like to make the dashboard more dynamic, instead of reading the stock data from local CSV file(s), fetch the stock data from the Internet instead. Use the AlphaVantage API's [\"daily adjusted\" endpoint](https://www.alphavantage.co/documentation/#dailyadj). This is a \"premium\" endpoint, so first obtain a premium API Key from the professor.\n",
        "\n",
        "> SECURITY NOTE: Remember to use `getpass` to securely ask for the user's API Key, to keep this credential secure and private. We shouldn't see it's value hard-coded or displayed / printed out anywhere. See **Setup Cell #4** below, for an example of using `getpass`."
      ]
    },
    {
      "cell_type": "markdown",
      "metadata": {
        "id": "NyAiTk2htD_e"
      },
      "source": [
        "## Part II (Data Processing Requirements)"
      ]
    },
    {
      "cell_type": "markdown",
      "metadata": {
        "id": "MIxFLIyVsVuM"
      },
      "source": [
        "**Basic Requirements**\n",
        "\n",
        "When invoked, the report generation function should reference the stock data obtained in Part I to display a report of details about the stock, including answers to the questions below.\n",
        "\n",
        "> NOTE: the provided answers below are for NFLX, so use NFLX when checking your answers...\n",
        "\n",
        "A) Print the **column names** / available fields (i.e. `['timestamp', 'open', 'high', 'low', 'close', 'adjusted_close', 'volume', 'dividend_amount', 'split_coefficient']`).\n",
        "\n",
        "B) Print the **number of rows** / available days (i.e. `100`).\n",
        "\n",
        "C) Print the **latest day** available (i.e. `2021-10-18`).\n",
        "\n",
        "D) Print the **earliest day** available (i.e. `2021-05-27`).\n",
        "\n",
        "E) Print the (adjusted) **closing price on the latest day**, formatted as dollars and cents with a dollar sign and two decimal places (i.e. `$637.97`).\n",
        "\n",
        "F) Print the (adjusted) **closing price on the earliest day**, formatted as dollars and cents with a dollar sign and two decimal places (i.e. `$503.86`).\n",
        "\n",
        "G) Print the **100-day high price**, formatted as dollars and cents with a dollar sign and two decimal places (i.e. `$646.84`). NOTE: the 100-day high price is equal to the maximum of all the available high prices.\n",
        "\n",
        "\n",
        "H) Print the **100-day low price**, formatted as dollars and cents with a dollar sign and two decimal places (i.e. `$482.14`). NOTE: the 100-day low price is equal to the minimum of all the available low prices.\n",
        "\n",
        "**Further Exploration**\n",
        "\n",
        "I) Print the **percentage change** between the earliest closing price and the latest closing price, as identified in parts E and F, above, formatted with a percent sign and rounded to four decimal places (i.e. `26.6165%`). NOTE: percent change is defined as `(latest - earliest) / earliest`. HINT: leverage the `to_pct` function provided in the setup cell when printing the final percentage.\n",
        "\n",
        "J) Print the **50 day moving average price for the latest day** (i.e. something around `$581.32`, depending on your methodology). The 50-day moving average for each given day is calculated by averaging the closing prices of the previous 50 daily periods. HINT: create a separate column to store the 50-day moving average for each day, using the [`rolling` method](https://pandas.pydata.org/docs/reference/api/pandas.DataFrame.rolling.html) on the closing prices column, with a window of 50, and then taking the mean of those values.\n",
        "\n"
      ]
    },
    {
      "cell_type": "markdown",
      "metadata": {
        "id": "hblSKrSFr1Qp"
      },
      "source": [
        "## Part III (Dataviz Requirements)"
      ]
    },
    {
      "cell_type": "markdown",
      "metadata": {
        "id": "GfiOnMsvr3ow"
      },
      "source": [
        "\n",
        "When invoked, the report generation function should also display a chart of the closing prices over time, including the following components:\n",
        "\n",
        "  1. **Chart Title**, which includes the selected stock symbol (i.e. `\"Daily Stock Prices (NFLX)\"`)\n",
        "  2. **Axis labels** (i.e. \"Closing Price\" and \"Date\" respectively).\n",
        "  3. **Prices formatted with a dollar signs**, wherever they appear (see axis ticks).\n",
        "\n",
        "\n",
        "Example:\n",
        "\n",
        "<img width=\"1266\" alt=\"Screen Shot 2021-10-21 at 10 08 39 AM\" src=\"https://user-images.githubusercontent.com/1328807/138295257-c285e730-721a-445f-868d-fab55588dab1.png\">\n",
        "\n",
        "> NOTE: It doesn't matter whether the chart comes before or after the stock details.\n",
        "\n",
        "> HINT: [plotly axis dollar-sign formatting](https://stackoverflow.com/a/58142945/670433) "
      ]
    },
    {
      "cell_type": "markdown",
      "metadata": {
        "id": "-nqE2tQk3JB6"
      },
      "source": [
        "**Further Exploration**\n",
        "\n",
        "Consider displaying a [candlestick chart](https://plotly.com/python/ohlc-charts/) instead of a line chart. \n",
        "\n",
        "If you do, consider also displaying a 50-day moving average trend line as well. HINT: if you do both, you might need to plot two different graph objects (see [example](https://github.com/prof-rossetti/intro-to-python/blob/main/notes/python/packages/plotly.md#charting-multiple-graph-objects)).\n",
        "\n"
      ]
    },
    {
      "cell_type": "markdown",
      "metadata": {
        "id": "Nt4JHIjW5Sc7"
      },
      "source": [
        "# Setup"
      ]
    },
    {
      "cell_type": "code",
      "execution_count": null,
      "metadata": {
        "id": "UU9nTIKY2hva"
      },
      "outputs": [],
      "source": [
        "#\n",
        "# SETUP CELL 1\n",
        "# ... run this cell to download some CSV files into the colab filesystem\n",
        "# ... for use in the basic requirements\n",
        "\n",
        "import os\n",
        "\n",
        "symbols = [\"googl\", \"msft\", \"nflx\", \"dis\", \"sbux\", \"aapl\", \"tsla\"]\n",
        "\n",
        "for symbol in symbols:\n",
        "    csv_filename = f\"daily_adjusted_{symbol}.csv\"\n",
        "    if not os.path.isfile(csv_filename):\n",
        "        print(\"DOWNLOADING\", \"...\", csv_filename)\n",
        "        \n",
        "        file_url = f\"https://raw.githubusercontent.com/prof-rossetti/intro-to-python/main/data/{csv_filename}\"\n",
        "        !wget -q $file_url\n"
      ]
    },
    {
      "cell_type": "code",
      "execution_count": null,
      "metadata": {
        "colab": {
          "base_uri": "https://localhost:8080/"
        },
        "id": "IgN2IJaNaxaY",
        "outputId": "e529e711-2afd-472b-e898-77d60355bba7"
      },
      "outputs": [
        {
          "name": "stdout",
          "output_type": "stream",
          "text": [
            "$4.50\n",
            "$200,001.00\n"
          ]
        }
      ],
      "source": [
        "#\n",
        "# SETUP CELL 2\n",
        "# ... run this cell to define a dollar-sign formatting function, so you can use it later\n",
        "\n",
        "def to_usd(my_price):\n",
        "    \"\"\"\n",
        "    Converts a numeric value to usd-formatted string, for printing and display purposes.\n",
        "    \n",
        "    Param: my_price (int or float) like 4000.444444\n",
        "    \n",
        "    Example: to_usd(4000.444444)\n",
        "    \n",
        "    Returns: $4,000.44\n",
        "    \"\"\"\n",
        "    return f\"${my_price:,.2f}\" \n",
        "\n",
        "print(to_usd(4.5))\n",
        "print(to_usd(200000.9999))"
      ]
    },
    {
      "cell_type": "code",
      "execution_count": null,
      "metadata": {
        "colab": {
          "base_uri": "https://localhost:8080/"
        },
        "id": "FzzR6Rw_KNA4",
        "outputId": "c94d253d-c794-4442-b47d-4757b66593d1"
      },
      "outputs": [
        {
          "name": "stdout",
          "output_type": "stream",
          "text": [
            "50.0000%\n",
            "95.5556%\n"
          ]
        }
      ],
      "source": [
        "#\n",
        "# SETUP CELL 3\n",
        "# ... run this cell to define a percent-sign formatting function, so you can use it later\n",
        "\n",
        "def to_pct(my_number):\n",
        "    \"\"\"\n",
        "    Formats a decimal number as a percentage, rounded to 4 decimal places, with a percent sign.\n",
        "    \n",
        "    Param my_number (float) like 0.95555555555\n",
        "    \n",
        "    Returns (str) like '95.5556%'\n",
        "    \"\"\"\n",
        "    return f\"{(my_number * 100):.4f}%\"\n",
        "\n",
        "\n",
        "print(to_pct(0.5))\n",
        "print(to_pct(.955555555))"
      ]
    },
    {
      "cell_type": "code",
      "execution_count": null,
      "metadata": {
        "colab": {
          "base_uri": "https://localhost:8080/"
        },
        "id": "p8zJbagUpyJ-",
        "outputId": "d021d983-dbdf-4f3e-d391-8d92a6c0e94d"
      },
      "outputs": [
        {
          "name": "stdout",
          "output_type": "stream",
          "text": [
            "Please input your AlphaVantage API Key: ··········\n",
            "JCF4BFJGSNYM93RD\n"
          ]
        }
      ],
      "source": [
        "#\n",
        "# SETUP CELL 4\n",
        "# ... uncomment the code below and run this cell to securely ask for an API key\n",
        "# ... (for use in the further exploration only)\n",
        "\n",
        "\n",
        "from getpass import getpass\n",
        "api_key = getpass(\"Please input your AlphaVantage API Key: \")\n"
      ]
    },
    {
      "cell_type": "markdown",
      "metadata": {
        "id": "pe3fw0QxxXx_"
      },
      "source": [
        "# Solution"
      ]
    },
    {
      "cell_type": "markdown",
      "metadata": {
        "id": "0YvtE8jBLUnQ"
      },
      "source": [
        "## Report Generation Function \n"
      ]
    },
    {
      "cell_type": "code",
      "execution_count": null,
      "metadata": {
        "id": "0KEfOV_Oy-dS"
      },
      "outputs": [],
      "source": [
        "import plotly.graph_objects as go\n",
        "import pandas as pd\n",
        "import plotly.express as px\n",
        "import csv\n",
        "import requests\n",
        "from getpass import getpass\n",
        "import os\n",
        "\n",
        "def generate_stocks_report(symbol):\n",
        "  symbols = [\n",
        "    'AAPL',\n",
        "    'MSFT',\n",
        "    'GOOG',\n",
        "    'AMZN',\n",
        "    'TSLA',\n",
        "    'UNH',\n",
        "    'NVDA',\n",
        "    'JNJ',\n",
        "    'META',\n",
        "    'TSM',\n",
        "    'TSLA',\n",
        "    'XOM',\n",
        "    'WMT',\n",
        "    'PG',\n",
        "    'MA',\n",
        "    'JPM',\n",
        "    'NFLX',\n",
        "    'SBUX',\n",
        "    'DIS'\n",
        "  ]\n",
        "  \n",
        "  if (len(symbol) == 0):\n",
        "    symbol = \"NFLX\"\n",
        "  elif not symbol in symbols:\n",
        "    print(\"OOPS, couldn't find that stock. Please check your symbol and try again.\")\n",
        "    return\n",
        "\n",
        "  api_key = getpass(\"Please input your AlphaVantage API Key: \")\n",
        "  CSV_URL = 'https://www.alphavantage.co/query?function=TIME_SERIES_DAILY_ADJUSTED&symbol={sym}&outputsize={size}&datatype={dtype}&apikey={key}'.format(sym=symbol, size=\"compact\", dtype=\"csv\", key=api_key)\n",
        "\n",
        "  with requests.Session() as s:\n",
        "    download = s.get(CSV_URL)\n",
        "    decoded_content = download.content.decode('utf-8')\n",
        "    cr = csv.reader(decoded_content.splitlines(), delimiter=',')\n",
        "    my_list = list(cr)\n",
        "    cols = my_list[0]\n",
        "    body = my_list[1:]\n",
        "\n",
        "    cols = my_list[0]\n",
        "    body = my_list[1:]\n",
        "    df=pd.DataFrame(body, columns=cols)\n",
        "\n",
        "  chart_title = 'Daily Stock Prices (' + symbol + ')'\n",
        "  fig = px.line(df, x=\"timestamp\", y='close', \n",
        "                labels = {\n",
        "                    \"close\": \"Closing price\",\n",
        "                    \"timestamp\": \"Date\"\n",
        "                },\n",
        "                title=chart_title)\n",
        "  \n",
        "  fig.update_layout(yaxis_tickformat = '$')\n",
        "\n",
        "  # A\n",
        "  print(\"column names: \", df.head(0))\n",
        "\n",
        "  # B\n",
        "  rows_count = len(df.index)\n",
        "  print(\"number of rows: \", rows_count)\n",
        "\n",
        "  # C\n",
        "  print(\"latest day: \", df.loc[0]['timestamp'])\n",
        "\n",
        "  # D\n",
        "  print(\"earliest day: \", df.loc[rows_count - 1]['timestamp'])\n",
        "\n",
        "  # E\n",
        "  price_latest_adjusted_close = (float)(df.loc[0]['adjusted_close'])\n",
        "  latest = to_usd(price_latest_adjusted_close)\n",
        "  print(\"closing price on the latest day: \", latest)\n",
        "\n",
        "  # F\n",
        "  price_earliest_adjusted_close = (float)(df.loc[rows_count - 1]['adjusted_close'])\n",
        "  earliest = to_usd(price_earliest_adjusted_close)\n",
        "  print(\"closing price on the earliest day: \", earliest)\n",
        "\n",
        "  # G\n",
        "  high_price_100days = to_usd((float)(max(df['high'])))\n",
        "  print(\"100-day high price: \", high_price_100days)\n",
        "\n",
        "  # H\n",
        "  low_price_100days = to_usd((float)(min(df['high'])))\n",
        "  print(\"100-day low price: \", low_price_100days)\n",
        "\n",
        "  # I\n",
        "  percentage_change = (price_latest_adjusted_close - price_earliest_adjusted_close) / price_earliest_adjusted_close\n",
        "  print(\"percentage change: \", to_pct(percentage_change))\n",
        "\n",
        "  # J\n",
        "  avg_50 = []\n",
        "  indexer = pd.api.indexers.FixedForwardWindowIndexer(window_size=50)\n",
        "  print(\"50 day moving average price for the latest day: \", df['close'].rolling(window=indexer).mean()[0])\n",
        "\n",
        "  fig.show()\n",
        "  "
      ]
    },
    {
      "cell_type": "code",
      "execution_count": null,
      "metadata": {
        "colab": {
          "base_uri": "https://localhost:8080/",
          "height": 770
        },
        "id": "un9IR2dYt6Jg",
        "outputId": "70268de8-423f-42b5-fa6f-d05804a9d02f"
      },
      "outputs": [
        {
          "name": "stdout",
          "output_type": "stream",
          "text": [
            "Empty DataFrame\n",
            "Columns: [timestamp, open, high, low, close, adjusted_close, volume, dividend_amount, split_coefficient]\n",
            "Index: []\n",
            "number of rows:  100\n",
            "latest day:  2021-10-18\n",
            "earliest day:  2021-05-27\n",
            "closing price on the latest day:  $307.29\n",
            "closing price on the earliest day:  $248.83\n",
            "100-day high price:  $308.21\n",
            "100-day low price:  $246.34\n",
            "percentage change:  23.4936%\n",
            "50 day moving average price for the latest day:  296.2658\n"
          ]
        },
        {
          "data": {
            "text/html": [
              "<html>\n",
              "<head><meta charset=\"utf-8\" /></head>\n",
              "<body>\n",
              "    <div>            <script src=\"https://cdnjs.cloudflare.com/ajax/libs/mathjax/2.7.5/MathJax.js?config=TeX-AMS-MML_SVG\"></script><script type=\"text/javascript\">if (window.MathJax) {MathJax.Hub.Config({SVG: {font: \"STIX-Web\"}});}</script>                <script type=\"text/javascript\">window.PlotlyConfig = {MathJaxConfig: 'local'};</script>\n",
              "        <script src=\"https://cdn.plot.ly/plotly-2.8.3.min.js\"></script>                <div id=\"10ae7617-896e-464a-b2d1-41dbf2ce73f8\" class=\"plotly-graph-div\" style=\"height:525px; width:100%;\"></div>            <script type=\"text/javascript\">                                    window.PLOTLYENV=window.PLOTLYENV || {};                                    if (document.getElementById(\"10ae7617-896e-464a-b2d1-41dbf2ce73f8\")) {                    Plotly.newPlot(                        \"10ae7617-896e-464a-b2d1-41dbf2ce73f8\",                        [{\"hovertemplate\":\"Date=%{x}<br>Closing price=%{y}<extra></extra>\",\"legendgroup\":\"\",\"line\":{\"color\":\"#636efa\",\"dash\":\"solid\"},\"marker\":{\"symbol\":\"circle\"},\"mode\":\"lines\",\"name\":\"\",\"orientation\":\"v\",\"showlegend\":false,\"x\":[\"2021-10-18\",\"2021-10-15\",\"2021-10-14\",\"2021-10-13\",\"2021-10-12\",\"2021-10-11\",\"2021-10-08\",\"2021-10-07\",\"2021-10-06\",\"2021-10-05\",\"2021-10-04\",\"2021-10-01\",\"2021-09-30\",\"2021-09-29\",\"2021-09-28\",\"2021-09-27\",\"2021-09-24\",\"2021-09-23\",\"2021-09-22\",\"2021-09-21\",\"2021-09-20\",\"2021-09-17\",\"2021-09-16\",\"2021-09-15\",\"2021-09-14\",\"2021-09-13\",\"2021-09-10\",\"2021-09-09\",\"2021-09-08\",\"2021-09-07\",\"2021-09-03\",\"2021-09-02\",\"2021-09-01\",\"2021-08-31\",\"2021-08-30\",\"2021-08-27\",\"2021-08-26\",\"2021-08-25\",\"2021-08-24\",\"2021-08-23\",\"2021-08-20\",\"2021-08-19\",\"2021-08-18\",\"2021-08-17\",\"2021-08-16\",\"2021-08-13\",\"2021-08-12\",\"2021-08-11\",\"2021-08-10\",\"2021-08-09\",\"2021-08-06\",\"2021-08-05\",\"2021-08-04\",\"2021-08-03\",\"2021-08-02\",\"2021-07-30\",\"2021-07-29\",\"2021-07-28\",\"2021-07-27\",\"2021-07-26\",\"2021-07-23\",\"2021-07-22\",\"2021-07-21\",\"2021-07-20\",\"2021-07-19\",\"2021-07-16\",\"2021-07-15\",\"2021-07-14\",\"2021-07-13\",\"2021-07-12\",\"2021-07-09\",\"2021-07-08\",\"2021-07-07\",\"2021-07-06\",\"2021-07-02\",\"2021-07-01\",\"2021-06-30\",\"2021-06-29\",\"2021-06-28\",\"2021-06-25\",\"2021-06-24\",\"2021-06-23\",\"2021-06-22\",\"2021-06-21\",\"2021-06-18\",\"2021-06-17\",\"2021-06-16\",\"2021-06-15\",\"2021-06-14\",\"2021-06-11\",\"2021-06-10\",\"2021-06-09\",\"2021-06-08\",\"2021-06-07\",\"2021-06-04\",\"2021-06-03\",\"2021-06-02\",\"2021-06-01\",\"2021-05-28\",\"2021-05-27\"],\"xaxis\":\"x\",\"y\":[307.29,304.21,302.75,296.31,292.88,294.23,294.85,294.85,293.11,288.76,283.11,289.1,281.92,284.0,283.52,294.17,299.35,299.56,298.58,294.8,294.3,299.87,305.22,304.82,299.79,296.99,295.71,297.25,300.21,300.18,301.14,301.15,301.83,301.88,303.59,299.72,299.09,302.01,302.62,304.65,304.36,296.77,290.73,293.08,294.6,292.85,289.81,286.95,286.44,288.33,289.46,289.52,286.51,287.12,284.82,284.91,286.5,286.22,286.54,289.05,289.67,286.14,281.4,279.32,277.01,280.75,281.03,282.51,280.98,277.32,277.94,277.42,279.93,277.66,277.65,271.6,270.9,271.4,268.72,265.02,266.69,265.275,265.51,262.63,259.43,260.9,257.38,258.36,259.89,257.89,257.24,253.59,252.57,253.81,250.79,245.71,247.3,247.4,249.68,249.31],\"yaxis\":\"y\",\"type\":\"scatter\"}],                        {\"template\":{\"data\":{\"bar\":[{\"error_x\":{\"color\":\"#2a3f5f\"},\"error_y\":{\"color\":\"#2a3f5f\"},\"marker\":{\"line\":{\"color\":\"#E5ECF6\",\"width\":0.5},\"pattern\":{\"fillmode\":\"overlay\",\"size\":10,\"solidity\":0.2}},\"type\":\"bar\"}],\"barpolar\":[{\"marker\":{\"line\":{\"color\":\"#E5ECF6\",\"width\":0.5},\"pattern\":{\"fillmode\":\"overlay\",\"size\":10,\"solidity\":0.2}},\"type\":\"barpolar\"}],\"carpet\":[{\"aaxis\":{\"endlinecolor\":\"#2a3f5f\",\"gridcolor\":\"white\",\"linecolor\":\"white\",\"minorgridcolor\":\"white\",\"startlinecolor\":\"#2a3f5f\"},\"baxis\":{\"endlinecolor\":\"#2a3f5f\",\"gridcolor\":\"white\",\"linecolor\":\"white\",\"minorgridcolor\":\"white\",\"startlinecolor\":\"#2a3f5f\"},\"type\":\"carpet\"}],\"choropleth\":[{\"colorbar\":{\"outlinewidth\":0,\"ticks\":\"\"},\"type\":\"choropleth\"}],\"contour\":[{\"colorbar\":{\"outlinewidth\":0,\"ticks\":\"\"},\"colorscale\":[[0.0,\"#0d0887\"],[0.1111111111111111,\"#46039f\"],[0.2222222222222222,\"#7201a8\"],[0.3333333333333333,\"#9c179e\"],[0.4444444444444444,\"#bd3786\"],[0.5555555555555556,\"#d8576b\"],[0.6666666666666666,\"#ed7953\"],[0.7777777777777778,\"#fb9f3a\"],[0.8888888888888888,\"#fdca26\"],[1.0,\"#f0f921\"]],\"type\":\"contour\"}],\"contourcarpet\":[{\"colorbar\":{\"outlinewidth\":0,\"ticks\":\"\"},\"type\":\"contourcarpet\"}],\"heatmap\":[{\"colorbar\":{\"outlinewidth\":0,\"ticks\":\"\"},\"colorscale\":[[0.0,\"#0d0887\"],[0.1111111111111111,\"#46039f\"],[0.2222222222222222,\"#7201a8\"],[0.3333333333333333,\"#9c179e\"],[0.4444444444444444,\"#bd3786\"],[0.5555555555555556,\"#d8576b\"],[0.6666666666666666,\"#ed7953\"],[0.7777777777777778,\"#fb9f3a\"],[0.8888888888888888,\"#fdca26\"],[1.0,\"#f0f921\"]],\"type\":\"heatmap\"}],\"heatmapgl\":[{\"colorbar\":{\"outlinewidth\":0,\"ticks\":\"\"},\"colorscale\":[[0.0,\"#0d0887\"],[0.1111111111111111,\"#46039f\"],[0.2222222222222222,\"#7201a8\"],[0.3333333333333333,\"#9c179e\"],[0.4444444444444444,\"#bd3786\"],[0.5555555555555556,\"#d8576b\"],[0.6666666666666666,\"#ed7953\"],[0.7777777777777778,\"#fb9f3a\"],[0.8888888888888888,\"#fdca26\"],[1.0,\"#f0f921\"]],\"type\":\"heatmapgl\"}],\"histogram\":[{\"marker\":{\"pattern\":{\"fillmode\":\"overlay\",\"size\":10,\"solidity\":0.2}},\"type\":\"histogram\"}],\"histogram2d\":[{\"colorbar\":{\"outlinewidth\":0,\"ticks\":\"\"},\"colorscale\":[[0.0,\"#0d0887\"],[0.1111111111111111,\"#46039f\"],[0.2222222222222222,\"#7201a8\"],[0.3333333333333333,\"#9c179e\"],[0.4444444444444444,\"#bd3786\"],[0.5555555555555556,\"#d8576b\"],[0.6666666666666666,\"#ed7953\"],[0.7777777777777778,\"#fb9f3a\"],[0.8888888888888888,\"#fdca26\"],[1.0,\"#f0f921\"]],\"type\":\"histogram2d\"}],\"histogram2dcontour\":[{\"colorbar\":{\"outlinewidth\":0,\"ticks\":\"\"},\"colorscale\":[[0.0,\"#0d0887\"],[0.1111111111111111,\"#46039f\"],[0.2222222222222222,\"#7201a8\"],[0.3333333333333333,\"#9c179e\"],[0.4444444444444444,\"#bd3786\"],[0.5555555555555556,\"#d8576b\"],[0.6666666666666666,\"#ed7953\"],[0.7777777777777778,\"#fb9f3a\"],[0.8888888888888888,\"#fdca26\"],[1.0,\"#f0f921\"]],\"type\":\"histogram2dcontour\"}],\"mesh3d\":[{\"colorbar\":{\"outlinewidth\":0,\"ticks\":\"\"},\"type\":\"mesh3d\"}],\"parcoords\":[{\"line\":{\"colorbar\":{\"outlinewidth\":0,\"ticks\":\"\"}},\"type\":\"parcoords\"}],\"pie\":[{\"automargin\":true,\"type\":\"pie\"}],\"scatter\":[{\"marker\":{\"colorbar\":{\"outlinewidth\":0,\"ticks\":\"\"}},\"type\":\"scatter\"}],\"scatter3d\":[{\"line\":{\"colorbar\":{\"outlinewidth\":0,\"ticks\":\"\"}},\"marker\":{\"colorbar\":{\"outlinewidth\":0,\"ticks\":\"\"}},\"type\":\"scatter3d\"}],\"scattercarpet\":[{\"marker\":{\"colorbar\":{\"outlinewidth\":0,\"ticks\":\"\"}},\"type\":\"scattercarpet\"}],\"scattergeo\":[{\"marker\":{\"colorbar\":{\"outlinewidth\":0,\"ticks\":\"\"}},\"type\":\"scattergeo\"}],\"scattergl\":[{\"marker\":{\"colorbar\":{\"outlinewidth\":0,\"ticks\":\"\"}},\"type\":\"scattergl\"}],\"scattermapbox\":[{\"marker\":{\"colorbar\":{\"outlinewidth\":0,\"ticks\":\"\"}},\"type\":\"scattermapbox\"}],\"scatterpolar\":[{\"marker\":{\"colorbar\":{\"outlinewidth\":0,\"ticks\":\"\"}},\"type\":\"scatterpolar\"}],\"scatterpolargl\":[{\"marker\":{\"colorbar\":{\"outlinewidth\":0,\"ticks\":\"\"}},\"type\":\"scatterpolargl\"}],\"scatterternary\":[{\"marker\":{\"colorbar\":{\"outlinewidth\":0,\"ticks\":\"\"}},\"type\":\"scatterternary\"}],\"surface\":[{\"colorbar\":{\"outlinewidth\":0,\"ticks\":\"\"},\"colorscale\":[[0.0,\"#0d0887\"],[0.1111111111111111,\"#46039f\"],[0.2222222222222222,\"#7201a8\"],[0.3333333333333333,\"#9c179e\"],[0.4444444444444444,\"#bd3786\"],[0.5555555555555556,\"#d8576b\"],[0.6666666666666666,\"#ed7953\"],[0.7777777777777778,\"#fb9f3a\"],[0.8888888888888888,\"#fdca26\"],[1.0,\"#f0f921\"]],\"type\":\"surface\"}],\"table\":[{\"cells\":{\"fill\":{\"color\":\"#EBF0F8\"},\"line\":{\"color\":\"white\"}},\"header\":{\"fill\":{\"color\":\"#C8D4E3\"},\"line\":{\"color\":\"white\"}},\"type\":\"table\"}]},\"layout\":{\"annotationdefaults\":{\"arrowcolor\":\"#2a3f5f\",\"arrowhead\":0,\"arrowwidth\":1},\"autotypenumbers\":\"strict\",\"coloraxis\":{\"colorbar\":{\"outlinewidth\":0,\"ticks\":\"\"}},\"colorscale\":{\"diverging\":[[0,\"#8e0152\"],[0.1,\"#c51b7d\"],[0.2,\"#de77ae\"],[0.3,\"#f1b6da\"],[0.4,\"#fde0ef\"],[0.5,\"#f7f7f7\"],[0.6,\"#e6f5d0\"],[0.7,\"#b8e186\"],[0.8,\"#7fbc41\"],[0.9,\"#4d9221\"],[1,\"#276419\"]],\"sequential\":[[0.0,\"#0d0887\"],[0.1111111111111111,\"#46039f\"],[0.2222222222222222,\"#7201a8\"],[0.3333333333333333,\"#9c179e\"],[0.4444444444444444,\"#bd3786\"],[0.5555555555555556,\"#d8576b\"],[0.6666666666666666,\"#ed7953\"],[0.7777777777777778,\"#fb9f3a\"],[0.8888888888888888,\"#fdca26\"],[1.0,\"#f0f921\"]],\"sequentialminus\":[[0.0,\"#0d0887\"],[0.1111111111111111,\"#46039f\"],[0.2222222222222222,\"#7201a8\"],[0.3333333333333333,\"#9c179e\"],[0.4444444444444444,\"#bd3786\"],[0.5555555555555556,\"#d8576b\"],[0.6666666666666666,\"#ed7953\"],[0.7777777777777778,\"#fb9f3a\"],[0.8888888888888888,\"#fdca26\"],[1.0,\"#f0f921\"]]},\"colorway\":[\"#636efa\",\"#EF553B\",\"#00cc96\",\"#ab63fa\",\"#FFA15A\",\"#19d3f3\",\"#FF6692\",\"#B6E880\",\"#FF97FF\",\"#FECB52\"],\"font\":{\"color\":\"#2a3f5f\"},\"geo\":{\"bgcolor\":\"white\",\"lakecolor\":\"white\",\"landcolor\":\"#E5ECF6\",\"showlakes\":true,\"showland\":true,\"subunitcolor\":\"white\"},\"hoverlabel\":{\"align\":\"left\"},\"hovermode\":\"closest\",\"mapbox\":{\"style\":\"light\"},\"paper_bgcolor\":\"white\",\"plot_bgcolor\":\"#E5ECF6\",\"polar\":{\"angularaxis\":{\"gridcolor\":\"white\",\"linecolor\":\"white\",\"ticks\":\"\"},\"bgcolor\":\"#E5ECF6\",\"radialaxis\":{\"gridcolor\":\"white\",\"linecolor\":\"white\",\"ticks\":\"\"}},\"scene\":{\"xaxis\":{\"backgroundcolor\":\"#E5ECF6\",\"gridcolor\":\"white\",\"gridwidth\":2,\"linecolor\":\"white\",\"showbackground\":true,\"ticks\":\"\",\"zerolinecolor\":\"white\"},\"yaxis\":{\"backgroundcolor\":\"#E5ECF6\",\"gridcolor\":\"white\",\"gridwidth\":2,\"linecolor\":\"white\",\"showbackground\":true,\"ticks\":\"\",\"zerolinecolor\":\"white\"},\"zaxis\":{\"backgroundcolor\":\"#E5ECF6\",\"gridcolor\":\"white\",\"gridwidth\":2,\"linecolor\":\"white\",\"showbackground\":true,\"ticks\":\"\",\"zerolinecolor\":\"white\"}},\"shapedefaults\":{\"line\":{\"color\":\"#2a3f5f\"}},\"ternary\":{\"aaxis\":{\"gridcolor\":\"white\",\"linecolor\":\"white\",\"ticks\":\"\"},\"baxis\":{\"gridcolor\":\"white\",\"linecolor\":\"white\",\"ticks\":\"\"},\"bgcolor\":\"#E5ECF6\",\"caxis\":{\"gridcolor\":\"white\",\"linecolor\":\"white\",\"ticks\":\"\"}},\"title\":{\"x\":0.05},\"xaxis\":{\"automargin\":true,\"gridcolor\":\"white\",\"linecolor\":\"white\",\"ticks\":\"\",\"title\":{\"standoff\":15},\"zerolinecolor\":\"white\",\"zerolinewidth\":2},\"yaxis\":{\"automargin\":true,\"gridcolor\":\"white\",\"linecolor\":\"white\",\"ticks\":\"\",\"title\":{\"standoff\":15},\"zerolinecolor\":\"white\",\"zerolinewidth\":2}}},\"xaxis\":{\"anchor\":\"y\",\"domain\":[0.0,1.0],\"title\":{\"text\":\"Date\"}},\"yaxis\":{\"anchor\":\"x\",\"domain\":[0.0,1.0],\"title\":{\"text\":\"Closing price\"},\"tickformat\":\"$\"},\"legend\":{\"tracegroupgap\":0},\"title\":{\"text\":\"Daily Stock Prices (MSFT)\"}},                        {\"responsive\": true}                    ).then(function(){\n",
              "                            \n",
              "var gd = document.getElementById('10ae7617-896e-464a-b2d1-41dbf2ce73f8');\n",
              "var x = new MutationObserver(function (mutations, observer) {{\n",
              "        var display = window.getComputedStyle(gd).display;\n",
              "        if (!display || display === 'none') {{\n",
              "            console.log([gd, 'removed!']);\n",
              "            Plotly.purge(gd);\n",
              "            observer.disconnect();\n",
              "        }}\n",
              "}});\n",
              "\n",
              "// Listen for the removal of the full notebook cells\n",
              "var notebookContainer = gd.closest('#notebook-container');\n",
              "if (notebookContainer) {{\n",
              "    x.observe(notebookContainer, {childList: true});\n",
              "}}\n",
              "\n",
              "// Listen for the clearing of the current output cell\n",
              "var outputEl = gd.closest('.output');\n",
              "if (outputEl) {{\n",
              "    x.observe(outputEl, {childList: true});\n",
              "}}\n",
              "\n",
              "                        })                };                            </script>        </div>\n",
              "</body>\n",
              "</html>"
            ]
          },
          "metadata": {},
          "output_type": "display_data"
        }
      ],
      "source": [
        "# If your function works, we should be able to uncomment the lines below and use it like this:\n",
        "\n",
        "# generate_stocks_report()\n",
        "generate_stocks_report(\"MSFT\")"
      ]
    },
    {
      "cell_type": "markdown",
      "metadata": {
        "id": "b7MgzGtogBMq"
      },
      "source": [
        "## Stocks Data Dashboard\n",
        "\n",
        "If your function works, we should be able to use it in the dashboard below:\n",
        "\n",
        " 1. Use the dropdown to select a stock symbol.\n",
        " 2. Run run the cell to generate a report and chart chart of prices over time."
      ]
    },
    {
      "cell_type": "code",
      "execution_count": null,
      "metadata": {
        "colab": {
          "base_uri": "https://localhost:8080/",
          "height": 788
        },
        "id": "tQ9-AlkkQJ8F",
        "outputId": "1d3eb641-bb15-4e8a-fe1e-b5f5efdfe1bd"
      },
      "outputs": [
        {
          "name": "stdout",
          "output_type": "stream",
          "text": [
            "Please input your AlphaVantage API Key: ··········\n",
            "column names:  Empty DataFrame\n",
            "Columns: [timestamp, open, high, low, close, adjusted_close, volume, dividend_amount, split_coefficient]\n",
            "Index: []\n",
            "number of rows:  100\n",
            "latest day:  2022-08-03\n",
            "earliest day:  2022-03-11\n",
            "closing price on the latest day:  $113.61\n",
            "closing price on the earliest day:  $126.80\n",
            "100-day high price:  $143.93\n",
            "100-day low price:  $108.23\n",
            "percentage change:  -10.4055%\n",
            "50 day moving average price for the latest day:  118.035\n"
          ]
        },
        {
          "data": {
            "text/html": [
              "<html>\n",
              "<head><meta charset=\"utf-8\" /></head>\n",
              "<body>\n",
              "    <div>            <script src=\"https://cdnjs.cloudflare.com/ajax/libs/mathjax/2.7.5/MathJax.js?config=TeX-AMS-MML_SVG\"></script><script type=\"text/javascript\">if (window.MathJax) {MathJax.Hub.Config({SVG: {font: \"STIX-Web\"}});}</script>                <script type=\"text/javascript\">window.PlotlyConfig = {MathJaxConfig: 'local'};</script>\n",
              "        <script src=\"https://cdn.plot.ly/plotly-2.8.3.min.js\"></script>                <div id=\"80b5d536-4f2f-40e2-bfe1-2ee40020bf88\" class=\"plotly-graph-div\" style=\"height:525px; width:100%;\"></div>            <script type=\"text/javascript\">                                    window.PLOTLYENV=window.PLOTLYENV || {};                                    if (document.getElementById(\"80b5d536-4f2f-40e2-bfe1-2ee40020bf88\")) {                    Plotly.newPlot(                        \"80b5d536-4f2f-40e2-bfe1-2ee40020bf88\",                        [{\"hovertemplate\":\"Date=%{x}<br>Closing price=%{y}<extra></extra>\",\"legendgroup\":\"\",\"line\":{\"color\":\"#636efa\",\"dash\":\"solid\"},\"marker\":{\"symbol\":\"circle\"},\"mode\":\"lines\",\"name\":\"\",\"orientation\":\"v\",\"showlegend\":false,\"x\":[\"2022-08-03\",\"2022-08-02\",\"2022-08-01\",\"2022-07-29\",\"2022-07-28\",\"2022-07-27\",\"2022-07-26\",\"2022-07-25\",\"2022-07-22\",\"2022-07-21\",\"2022-07-20\",\"2022-07-19\",\"2022-07-18\",\"2022-07-15\",\"2022-07-14\",\"2022-07-13\",\"2022-07-12\",\"2022-07-11\",\"2022-07-08\",\"2022-07-07\",\"2022-07-06\",\"2022-07-05\",\"2022-07-01\",\"2022-06-30\",\"2022-06-29\",\"2022-06-28\",\"2022-06-27\",\"2022-06-24\",\"2022-06-23\",\"2022-06-22\",\"2022-06-21\",\"2022-06-17\",\"2022-06-16\",\"2022-06-15\",\"2022-06-14\",\"2022-06-13\",\"2022-06-10\",\"2022-06-09\",\"2022-06-08\",\"2022-06-07\",\"2022-06-06\",\"2022-06-03\",\"2022-06-02\",\"2022-06-01\",\"2022-05-31\",\"2022-05-27\",\"2022-05-26\",\"2022-05-25\",\"2022-05-24\",\"2022-05-23\",\"2022-05-20\",\"2022-05-19\",\"2022-05-18\",\"2022-05-17\",\"2022-05-16\",\"2022-05-13\",\"2022-05-12\",\"2022-05-11\",\"2022-05-10\",\"2022-05-09\",\"2022-05-06\",\"2022-05-05\",\"2022-05-04\",\"2022-05-03\",\"2022-05-02\",\"2022-04-29\",\"2022-04-28\",\"2022-04-27\",\"2022-04-26\",\"2022-04-25\",\"2022-04-22\",\"2022-04-21\",\"2022-04-20\",\"2022-04-19\",\"2022-04-18\",\"2022-04-14\",\"2022-04-13\",\"2022-04-12\",\"2022-04-11\",\"2022-04-08\",\"2022-04-07\",\"2022-04-06\",\"2022-04-05\",\"2022-04-04\",\"2022-04-01\",\"2022-03-31\",\"2022-03-30\",\"2022-03-29\",\"2022-03-28\",\"2022-03-25\",\"2022-03-24\",\"2022-03-23\",\"2022-03-22\",\"2022-03-21\",\"2022-03-18\",\"2022-03-17\",\"2022-03-16\",\"2022-03-15\",\"2022-03-14\",\"2022-03-11\"],\"xaxis\":\"x\",\"y\":[\"113.61\",\"112.43\",\"114.21\",\"115.36\",\"114.81\",\"115.24\",\"113.42\",\"115.22\",\"114.76\",\"115.32\",\"114.54\",\"114.56\",\"111.79\",\"112.95\",\"108.0\",\"111.91\",\"112.97\",\"112.86\",\"114.36\",\"114.72\",\"111.89\",\"112.62\",\"114.05\",\"112.61\",\"115.3\",\"115.82\",\"116.38\",\"117.32\",\"113.92\",\"115.18\",\"115.83\",\"113.03\",\"113.43\",\"115.41\",\"114.06\",\"115.99\",\"119.55\",\"125.31\",\"128.0\",\"130.07\",\"129.73\",\"130.16\",\"132.0\",\"129.91\",\"132.23\",\"131.27\",\"129.44\",\"127.24\",\"126.36\",\"124.6\",\"117.34\",\"118.31\",\"120.09\",\"122.18\",\"118.26\",\"119.09\",\"118.04\",\"118.14\",\"118.89\",\"121.86\",\"123.72\",\"123.92\",\"127.1\",\"123.03\",\"120.45\",\"119.36\",\"123.34\",\"121.42\",\"123.02\",\"126.77\",\"126.81\",\"130.56\",\"131.58\",\"131.12\",\"128.46\",\"126.12\",\"127.3\",\"131.54\",\"133.0\",\"133.49\",\"131.09\",\"131.49\",\"133.34\",\"135.91\",\"135.31\",\"136.32\",\"140.54\",\"141.18\",\"140.87\",\"141.92\",\"140.69\",\"139.78\",\"142.62\",\"139.65\",\"140.1\",\"140.15\",\"138.4\",\"132.48\",\"130.17\",\"128.89\"],\"yaxis\":\"y\",\"type\":\"scatter\"}],                        {\"template\":{\"data\":{\"bar\":[{\"error_x\":{\"color\":\"#2a3f5f\"},\"error_y\":{\"color\":\"#2a3f5f\"},\"marker\":{\"line\":{\"color\":\"#E5ECF6\",\"width\":0.5},\"pattern\":{\"fillmode\":\"overlay\",\"size\":10,\"solidity\":0.2}},\"type\":\"bar\"}],\"barpolar\":[{\"marker\":{\"line\":{\"color\":\"#E5ECF6\",\"width\":0.5},\"pattern\":{\"fillmode\":\"overlay\",\"size\":10,\"solidity\":0.2}},\"type\":\"barpolar\"}],\"carpet\":[{\"aaxis\":{\"endlinecolor\":\"#2a3f5f\",\"gridcolor\":\"white\",\"linecolor\":\"white\",\"minorgridcolor\":\"white\",\"startlinecolor\":\"#2a3f5f\"},\"baxis\":{\"endlinecolor\":\"#2a3f5f\",\"gridcolor\":\"white\",\"linecolor\":\"white\",\"minorgridcolor\":\"white\",\"startlinecolor\":\"#2a3f5f\"},\"type\":\"carpet\"}],\"choropleth\":[{\"colorbar\":{\"outlinewidth\":0,\"ticks\":\"\"},\"type\":\"choropleth\"}],\"contour\":[{\"colorbar\":{\"outlinewidth\":0,\"ticks\":\"\"},\"colorscale\":[[0.0,\"#0d0887\"],[0.1111111111111111,\"#46039f\"],[0.2222222222222222,\"#7201a8\"],[0.3333333333333333,\"#9c179e\"],[0.4444444444444444,\"#bd3786\"],[0.5555555555555556,\"#d8576b\"],[0.6666666666666666,\"#ed7953\"],[0.7777777777777778,\"#fb9f3a\"],[0.8888888888888888,\"#fdca26\"],[1.0,\"#f0f921\"]],\"type\":\"contour\"}],\"contourcarpet\":[{\"colorbar\":{\"outlinewidth\":0,\"ticks\":\"\"},\"type\":\"contourcarpet\"}],\"heatmap\":[{\"colorbar\":{\"outlinewidth\":0,\"ticks\":\"\"},\"colorscale\":[[0.0,\"#0d0887\"],[0.1111111111111111,\"#46039f\"],[0.2222222222222222,\"#7201a8\"],[0.3333333333333333,\"#9c179e\"],[0.4444444444444444,\"#bd3786\"],[0.5555555555555556,\"#d8576b\"],[0.6666666666666666,\"#ed7953\"],[0.7777777777777778,\"#fb9f3a\"],[0.8888888888888888,\"#fdca26\"],[1.0,\"#f0f921\"]],\"type\":\"heatmap\"}],\"heatmapgl\":[{\"colorbar\":{\"outlinewidth\":0,\"ticks\":\"\"},\"colorscale\":[[0.0,\"#0d0887\"],[0.1111111111111111,\"#46039f\"],[0.2222222222222222,\"#7201a8\"],[0.3333333333333333,\"#9c179e\"],[0.4444444444444444,\"#bd3786\"],[0.5555555555555556,\"#d8576b\"],[0.6666666666666666,\"#ed7953\"],[0.7777777777777778,\"#fb9f3a\"],[0.8888888888888888,\"#fdca26\"],[1.0,\"#f0f921\"]],\"type\":\"heatmapgl\"}],\"histogram\":[{\"marker\":{\"pattern\":{\"fillmode\":\"overlay\",\"size\":10,\"solidity\":0.2}},\"type\":\"histogram\"}],\"histogram2d\":[{\"colorbar\":{\"outlinewidth\":0,\"ticks\":\"\"},\"colorscale\":[[0.0,\"#0d0887\"],[0.1111111111111111,\"#46039f\"],[0.2222222222222222,\"#7201a8\"],[0.3333333333333333,\"#9c179e\"],[0.4444444444444444,\"#bd3786\"],[0.5555555555555556,\"#d8576b\"],[0.6666666666666666,\"#ed7953\"],[0.7777777777777778,\"#fb9f3a\"],[0.8888888888888888,\"#fdca26\"],[1.0,\"#f0f921\"]],\"type\":\"histogram2d\"}],\"histogram2dcontour\":[{\"colorbar\":{\"outlinewidth\":0,\"ticks\":\"\"},\"colorscale\":[[0.0,\"#0d0887\"],[0.1111111111111111,\"#46039f\"],[0.2222222222222222,\"#7201a8\"],[0.3333333333333333,\"#9c179e\"],[0.4444444444444444,\"#bd3786\"],[0.5555555555555556,\"#d8576b\"],[0.6666666666666666,\"#ed7953\"],[0.7777777777777778,\"#fb9f3a\"],[0.8888888888888888,\"#fdca26\"],[1.0,\"#f0f921\"]],\"type\":\"histogram2dcontour\"}],\"mesh3d\":[{\"colorbar\":{\"outlinewidth\":0,\"ticks\":\"\"},\"type\":\"mesh3d\"}],\"parcoords\":[{\"line\":{\"colorbar\":{\"outlinewidth\":0,\"ticks\":\"\"}},\"type\":\"parcoords\"}],\"pie\":[{\"automargin\":true,\"type\":\"pie\"}],\"scatter\":[{\"marker\":{\"colorbar\":{\"outlinewidth\":0,\"ticks\":\"\"}},\"type\":\"scatter\"}],\"scatter3d\":[{\"line\":{\"colorbar\":{\"outlinewidth\":0,\"ticks\":\"\"}},\"marker\":{\"colorbar\":{\"outlinewidth\":0,\"ticks\":\"\"}},\"type\":\"scatter3d\"}],\"scattercarpet\":[{\"marker\":{\"colorbar\":{\"outlinewidth\":0,\"ticks\":\"\"}},\"type\":\"scattercarpet\"}],\"scattergeo\":[{\"marker\":{\"colorbar\":{\"outlinewidth\":0,\"ticks\":\"\"}},\"type\":\"scattergeo\"}],\"scattergl\":[{\"marker\":{\"colorbar\":{\"outlinewidth\":0,\"ticks\":\"\"}},\"type\":\"scattergl\"}],\"scattermapbox\":[{\"marker\":{\"colorbar\":{\"outlinewidth\":0,\"ticks\":\"\"}},\"type\":\"scattermapbox\"}],\"scatterpolar\":[{\"marker\":{\"colorbar\":{\"outlinewidth\":0,\"ticks\":\"\"}},\"type\":\"scatterpolar\"}],\"scatterpolargl\":[{\"marker\":{\"colorbar\":{\"outlinewidth\":0,\"ticks\":\"\"}},\"type\":\"scatterpolargl\"}],\"scatterternary\":[{\"marker\":{\"colorbar\":{\"outlinewidth\":0,\"ticks\":\"\"}},\"type\":\"scatterternary\"}],\"surface\":[{\"colorbar\":{\"outlinewidth\":0,\"ticks\":\"\"},\"colorscale\":[[0.0,\"#0d0887\"],[0.1111111111111111,\"#46039f\"],[0.2222222222222222,\"#7201a8\"],[0.3333333333333333,\"#9c179e\"],[0.4444444444444444,\"#bd3786\"],[0.5555555555555556,\"#d8576b\"],[0.6666666666666666,\"#ed7953\"],[0.7777777777777778,\"#fb9f3a\"],[0.8888888888888888,\"#fdca26\"],[1.0,\"#f0f921\"]],\"type\":\"surface\"}],\"table\":[{\"cells\":{\"fill\":{\"color\":\"#EBF0F8\"},\"line\":{\"color\":\"white\"}},\"header\":{\"fill\":{\"color\":\"#C8D4E3\"},\"line\":{\"color\":\"white\"}},\"type\":\"table\"}]},\"layout\":{\"annotationdefaults\":{\"arrowcolor\":\"#2a3f5f\",\"arrowhead\":0,\"arrowwidth\":1},\"autotypenumbers\":\"strict\",\"coloraxis\":{\"colorbar\":{\"outlinewidth\":0,\"ticks\":\"\"}},\"colorscale\":{\"diverging\":[[0,\"#8e0152\"],[0.1,\"#c51b7d\"],[0.2,\"#de77ae\"],[0.3,\"#f1b6da\"],[0.4,\"#fde0ef\"],[0.5,\"#f7f7f7\"],[0.6,\"#e6f5d0\"],[0.7,\"#b8e186\"],[0.8,\"#7fbc41\"],[0.9,\"#4d9221\"],[1,\"#276419\"]],\"sequential\":[[0.0,\"#0d0887\"],[0.1111111111111111,\"#46039f\"],[0.2222222222222222,\"#7201a8\"],[0.3333333333333333,\"#9c179e\"],[0.4444444444444444,\"#bd3786\"],[0.5555555555555556,\"#d8576b\"],[0.6666666666666666,\"#ed7953\"],[0.7777777777777778,\"#fb9f3a\"],[0.8888888888888888,\"#fdca26\"],[1.0,\"#f0f921\"]],\"sequentialminus\":[[0.0,\"#0d0887\"],[0.1111111111111111,\"#46039f\"],[0.2222222222222222,\"#7201a8\"],[0.3333333333333333,\"#9c179e\"],[0.4444444444444444,\"#bd3786\"],[0.5555555555555556,\"#d8576b\"],[0.6666666666666666,\"#ed7953\"],[0.7777777777777778,\"#fb9f3a\"],[0.8888888888888888,\"#fdca26\"],[1.0,\"#f0f921\"]]},\"colorway\":[\"#636efa\",\"#EF553B\",\"#00cc96\",\"#ab63fa\",\"#FFA15A\",\"#19d3f3\",\"#FF6692\",\"#B6E880\",\"#FF97FF\",\"#FECB52\"],\"font\":{\"color\":\"#2a3f5f\"},\"geo\":{\"bgcolor\":\"white\",\"lakecolor\":\"white\",\"landcolor\":\"#E5ECF6\",\"showlakes\":true,\"showland\":true,\"subunitcolor\":\"white\"},\"hoverlabel\":{\"align\":\"left\"},\"hovermode\":\"closest\",\"mapbox\":{\"style\":\"light\"},\"paper_bgcolor\":\"white\",\"plot_bgcolor\":\"#E5ECF6\",\"polar\":{\"angularaxis\":{\"gridcolor\":\"white\",\"linecolor\":\"white\",\"ticks\":\"\"},\"bgcolor\":\"#E5ECF6\",\"radialaxis\":{\"gridcolor\":\"white\",\"linecolor\":\"white\",\"ticks\":\"\"}},\"scene\":{\"xaxis\":{\"backgroundcolor\":\"#E5ECF6\",\"gridcolor\":\"white\",\"gridwidth\":2,\"linecolor\":\"white\",\"showbackground\":true,\"ticks\":\"\",\"zerolinecolor\":\"white\"},\"yaxis\":{\"backgroundcolor\":\"#E5ECF6\",\"gridcolor\":\"white\",\"gridwidth\":2,\"linecolor\":\"white\",\"showbackground\":true,\"ticks\":\"\",\"zerolinecolor\":\"white\"},\"zaxis\":{\"backgroundcolor\":\"#E5ECF6\",\"gridcolor\":\"white\",\"gridwidth\":2,\"linecolor\":\"white\",\"showbackground\":true,\"ticks\":\"\",\"zerolinecolor\":\"white\"}},\"shapedefaults\":{\"line\":{\"color\":\"#2a3f5f\"}},\"ternary\":{\"aaxis\":{\"gridcolor\":\"white\",\"linecolor\":\"white\",\"ticks\":\"\"},\"baxis\":{\"gridcolor\":\"white\",\"linecolor\":\"white\",\"ticks\":\"\"},\"bgcolor\":\"#E5ECF6\",\"caxis\":{\"gridcolor\":\"white\",\"linecolor\":\"white\",\"ticks\":\"\"}},\"title\":{\"x\":0.05},\"xaxis\":{\"automargin\":true,\"gridcolor\":\"white\",\"linecolor\":\"white\",\"ticks\":\"\",\"title\":{\"standoff\":15},\"zerolinecolor\":\"white\",\"zerolinewidth\":2},\"yaxis\":{\"automargin\":true,\"gridcolor\":\"white\",\"linecolor\":\"white\",\"ticks\":\"\",\"title\":{\"standoff\":15},\"zerolinecolor\":\"white\",\"zerolinewidth\":2}}},\"xaxis\":{\"anchor\":\"y\",\"domain\":[0.0,1.0],\"title\":{\"text\":\"Date\"}},\"yaxis\":{\"anchor\":\"x\",\"domain\":[0.0,1.0],\"title\":{\"text\":\"Closing price\"},\"tickformat\":\"$\"},\"legend\":{\"tracegroupgap\":0},\"title\":{\"text\":\"Daily Stock Prices (JPM)\"}},                        {\"responsive\": true}                    ).then(function(){\n",
              "                            \n",
              "var gd = document.getElementById('80b5d536-4f2f-40e2-bfe1-2ee40020bf88');\n",
              "var x = new MutationObserver(function (mutations, observer) {{\n",
              "        var display = window.getComputedStyle(gd).display;\n",
              "        if (!display || display === 'none') {{\n",
              "            console.log([gd, 'removed!']);\n",
              "            Plotly.purge(gd);\n",
              "            observer.disconnect();\n",
              "        }}\n",
              "}});\n",
              "\n",
              "// Listen for the removal of the full notebook cells\n",
              "var notebookContainer = gd.closest('#notebook-container');\n",
              "if (notebookContainer) {{\n",
              "    x.observe(notebookContainer, {childList: true});\n",
              "}}\n",
              "\n",
              "// Listen for the clearing of the current output cell\n",
              "var outputEl = gd.closest('.output');\n",
              "if (outputEl) {{\n",
              "    x.observe(outputEl, {childList: true});\n",
              "}}\n",
              "\n",
              "                        })                };                            </script>        </div>\n",
              "</body>\n",
              "</html>"
            ]
          },
          "metadata": {},
          "output_type": "display_data"
        }
      ],
      "source": [
        "#@title Stock Selection Form\n",
        "symbol = \"JPM\" #@param [\"MSFT\", \"GOOG\", \"AAPL\", \"NFLX\", \"SBUX\", \"TSLA\", \"DIS\", \"UNH\", \"NVDA\", \"JNJ\", \"META\", \"TSM\", \"XOM\", \"WMT\", \"PG\", \"MA\", \"JPM\"]\n",
        "generate_stocks_report(symbol)"
      ]
    },
    {
      "cell_type": "markdown",
      "metadata": {
        "id": "bVmfvyo6dTDo"
      },
      "source": [
        "\n",
        "# Scratch Work\n"
      ]
    },
    {
      "cell_type": "markdown",
      "metadata": {
        "id": "i0Ufh9nP4L5u"
      },
      "source": [
        "\n",
        "Optionally use these cells as scratch-work to practice your ability to produce the desired dataviz. \n",
        "\n",
        "> NOTE: These practice cells won't be evaluated. Only the report generation function above will be evaluated. So make sure that your final work ends up in the report generation function!\n",
        "\n",
        "\n",
        "\n"
      ]
    },
    {
      "cell_type": "code",
      "execution_count": null,
      "metadata": {
        "id": "-Suaz2wsAgXQ"
      },
      "outputs": [],
      "source": [
        ""
      ]
    },
    {
      "cell_type": "code",
      "execution_count": null,
      "metadata": {
        "id": "yEcklk4jAgQC"
      },
      "outputs": [],
      "source": [
        ""
      ]
    },
    {
      "cell_type": "code",
      "execution_count": null,
      "metadata": {
        "id": "jhUriA2YAgJH"
      },
      "outputs": [],
      "source": [
        ""
      ]
    },
    {
      "cell_type": "code",
      "execution_count": null,
      "metadata": {
        "id": "U6QieqLsAf4I"
      },
      "outputs": [],
      "source": [
        ""
      ]
    }
  ],
  "metadata": {
    "colab": {
      "collapsed_sections": [
        "3GXGZ01eXGD0"
      ],
      "name": "Stocks Dashboard (Summer 2022)-ym558.ipynb",
      "provenance": [],
      "include_colab_link": true
    },
    "kernelspec": {
      "display_name": "Python 3",
      "name": "python3"
    },
    "language_info": {
      "name": "python"
    }
  },
  "nbformat": 4,
  "nbformat_minor": 0
}